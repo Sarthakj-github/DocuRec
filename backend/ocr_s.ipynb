{
 "cells": [
  {
   "cell_type": "code",
   "execution_count": 2,
   "metadata": {},
   "outputs": [
    {
     "name": "stdout",
     "output_type": "stream",
     "text": [
     ]
    },
    {
     "name": "stderr",
     "output_type": "stream",
     "text": [
     ]
    },
    {
     "name": "stdout",
     "output_type": "stream",
     "text": [
     ]
    },
    {
     "name": "stderr",
     "output_type": "stream",
     "text": [
     ]
    },
    {
     "name": "stdout",
     "output_type": "stream",
     "text": [
      ]
    }
   ],
   "source": [
    "%pip install easyocr\n",
    "%pip install pandas"
   ]
  },
  {
   "cell_type": "code",
   "execution_count": 3,
   "metadata": {},
   "outputs": [],
   "source": [
    "import easyocr\n",
    "import pandas as pd"
   ]
  },
  {
   "cell_type": "code",
   "execution_count": 4,
   "metadata": {},
   "outputs": [
    {
     "name": "stderr",
     "output_type": "stream",
     "text": [
      "Using CPU. Note: This module is much faster with a GPU.\n"
     ]
    }
   ],
   "source": [
    "reader = easyocr.Reader(['en'],gpu=False)"
   ]
  },
  {
   "cell_type": "code",
   "execution_count": 5,
   "metadata": {},
   "outputs": [
    {
     "data": {
      "text/plain": [
       "[([[130, 20], [620, 20], [620, 69], [130, 69]],\n",
       "  'Indian Union Driving Licence',\n",
       "  0.9968499187750521),\n",
       " ([[908, 56], [952, 56], [952, 86], [908, 86]], 'UP)', 0.982164604986485),\n",
       " ([[131, 66], [512, 66], [512, 114], [131, 114]],\n",
       "  'Issued by Uttar Pradesh',\n",
       "  0.8849884786591544),\n",
       " ([[13, 153], [99, 153], [99, 171], [13, 171]],\n",
       "  '4a4rd tud',\n",
       "  0.06238788490311602),\n",
       " ([[263, 137], [553, 137], [553, 179], [263, 179]],\n",
       "  'UP63 19981633749',\n",
       "  0.830021091496484),\n",
       " ([[261, 211], [396, 211], [396, 242], [261, 242]],\n",
       "  'Issue Date',\n",
       "  0.8481359562340118),\n",
       " ([[421, 204], [581, 204], [581, 248], [421, 248]],\n",
       "  'Validity (NT)',\n",
       "  0.977257849517781),\n",
       " ([[605, 209], [761, 209], [761, 247], [605, 247]],\n",
       "  'Validity(TR)\"',\n",
       "  0.6826433421525794),\n",
       " ([[262, 244], [404, 244], [404, 270], [262, 270]],\n",
       "  '13-06-2024',\n",
       "  0.7884036676549775),\n",
       " ([[426, 242], [568, 242], [568, 272], [426, 272]],\n",
       "  '21-06-2031',\n",
       "  0.6794789790590466),\n",
       " ([[158, 371], [412, 371], [412, 398], [158, 398]],\n",
       "  'MAHESH PRATAP SINGH',\n",
       "  0.9076298274901738),\n",
       " ([[776, 362], [940, 362], [940, 388], [776, 388]],\n",
       "  \"Holder's Signature\",\n",
       "  0.8224900458479856),\n",
       " ([[18, 380], [102, 380], [102, 408], [18, 408]], 'Name:', 0.7601754687889539),\n",
       " ([[20, 418], [186, 418], [186, 450], [20, 450]],\n",
       "  'Date of Birth:',\n",
       "  0.976571239173308),\n",
       " ([[198, 418], [318, 418], [318, 442], [198, 442]],\n",
       "  '22-06-1971',\n",
       "  0.8134613772406395),\n",
       " ([[393, 417], [562, 417], [562, 454], [393, 454]],\n",
       "  'Blood Group:',\n",
       "  0.9999716980003076),\n",
       " ([[654, 418], [827, 418], [827, 456], [654, 456]],\n",
       "  'Organ Donor:',\n",
       "  0.7691691373591147),\n",
       " ([[845, 419], [863, 419], [863, 441], [845, 441]], 'N', 0.9992289837797195),\n",
       " ([[19, 461], [301, 461], [301, 499], [19, 499]],\n",
       "  'Son/Daughter/Wife of:',\n",
       "  0.8843407872592045),\n",
       " ([[348, 458], [628, 458], [628, 484], [348, 484]],\n",
       "  'RAJENDRA PRATA P SINGH',\n",
       "  0.9139374865122152),\n",
       " ([[20, 510], [130, 510], [130, 540], [20, 540]],\n",
       "  'Address:',\n",
       "  0.9999699069626081),\n",
       " ([[28, 542], [376, 542], [376, 568], [28, 568]],\n",
       "  'RAMPURGHAT MARG RURAL NiBI',\n",
       "  0.7037557588295609),\n",
       " ([[29, 564], [392, 564], [392, 595], [29, 595]],\n",
       "  'GAHARWAR MIRZAPUR,UP 231303',\n",
       "  0.7499339806306874)]"
      ]
     },
     "execution_count": 5,
     "metadata": {},
     "output_type": "execute_result"
    }
   ],
   "source": [
    "results = reader.readtext(\"D:/DocuVille/backend/images/DL1.jpg\")\n",
    "#results = reader.readtext(\"D:/DocuVille/backend/preprocessed_image.jpg\")\n",
    "results"
   ]
  },
  {
   "cell_type": "code",
   "execution_count": 6,
   "metadata": {},
   "outputs": [
    {
     "data": {
      "text/plain": [
       "0     Indian Union Driving Licence\n",
       "1                              UP)\n",
       "2          Issued by Uttar Pradesh\n",
       "3                        4a4rd tud\n",
       "4                 UP63 19981633749\n",
       "5                       Issue Date\n",
       "6                    Validity (NT)\n",
       "7                    Validity(TR)\"\n",
       "8                       13-06-2024\n",
       "9                       21-06-2031\n",
       "10             MAHESH PRATAP SINGH\n",
       "11              Holder's Signature\n",
       "12                           Name:\n",
       "13                  Date of Birth:\n",
       "14                      22-06-1971\n",
       "15                    Blood Group:\n",
       "16                    Organ Donor:\n",
       "17                               N\n",
       "18           Son/Daughter/Wife of:\n",
       "19          RAJENDRA PRATA P SINGH\n",
       "20                        Address:\n",
       "21      RAMPURGHAT MARG RURAL NiBI\n",
       "22     GAHARWAR MIRZAPUR,UP 231303\n",
       "Name: text, dtype: object"
      ]
     },
     "execution_count": 6,
     "metadata": {},
     "output_type": "execute_result"
    }
   ],
   "source": [
    "pd.DataFrame(results,columns=['bbox','text','conf'])['text']\n"
   ]
  }
 ],
 "metadata": {
  "kernelspec": {
   "display_name": "Python 3",
   "language": "python",
   "name": "python3"
  },
  "language_info": {
   "codemirror_mode": {
    "name": "ipython",
    "version": 3
   },
   "file_extension": ".py",
   "mimetype": "text/x-python",
   "name": "python",
   "nbconvert_exporter": "python",
   "pygments_lexer": "ipython3",
   "version": "3.12.0"
  }
 },
 "nbformat": 4,
 "nbformat_minor": 2
}
