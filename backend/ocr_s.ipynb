{
 "cells": [
  {
   "cell_type": "code",
   "execution_count": 1,
   "metadata": {},
   "outputs": [
    {
     "name": "stdout",
     "output_type": "stream",
     "text": [
      "Requirement already satisfied: easyocr in c:\\users\\lenovo\\appdata\\local\\programs\\python\\python312\\lib\\site-packages (1.7.2)\n",
      "Requirement already satisfied: torch in c:\\users\\lenovo\\appdata\\local\\programs\\python\\python312\\lib\\site-packages (from easyocr) (2.5.1)\n",
      "Requirement already satisfied: torchvision>=0.5 in c:\\users\\lenovo\\appdata\\local\\programs\\python\\python312\\lib\\site-packages (from easyocr) (0.20.1)\n",
      "Requirement already satisfied: opencv-python-headless in c:\\users\\lenovo\\appdata\\local\\programs\\python\\python312\\lib\\site-packages (from easyocr) (4.10.0.84)\n",
      "Requirement already satisfied: scipy in c:\\users\\lenovo\\appdata\\local\\programs\\python\\python312\\lib\\site-packages (from easyocr) (1.14.1)\n",
      "Requirement already satisfied: numpy in c:\\users\\lenovo\\appdata\\local\\programs\\python\\python312\\lib\\site-packages (from easyocr) (1.26.4)\n",
      "Requirement already satisfied: Pillow in c:\\users\\lenovo\\appdata\\local\\programs\\python\\python312\\lib\\site-packages (from easyocr) (11.0.0)\n",
      "Requirement already satisfied: scikit-image in c:\\users\\lenovo\\appdata\\roaming\\python\\python312\\site-packages (from easyocr) (0.24.0)\n",
      "Requirement already satisfied: python-bidi in c:\\users\\lenovo\\appdata\\local\\programs\\python\\python312\\lib\\site-packages (from easyocr) (0.6.3)\n",
      "Requirement already satisfied: PyYAML in c:\\users\\lenovo\\appdata\\local\\programs\\python\\python312\\lib\\site-packages (from easyocr) (6.0.2)\n",
      "Requirement already satisfied: Shapely in c:\\users\\lenovo\\appdata\\local\\programs\\python\\python312\\lib\\site-packages (from easyocr) (2.0.6)\n",
      "Requirement already satisfied: pyclipper in c:\\users\\lenovo\\appdata\\local\\programs\\python\\python312\\lib\\site-packages (from easyocr) (1.3.0.post6)\n",
      "Requirement already satisfied: ninja in c:\\users\\lenovo\\appdata\\local\\programs\\python\\python312\\lib\\site-packages (from easyocr) (1.11.1.1)\n",
      "Requirement already satisfied: filelock in c:\\users\\lenovo\\appdata\\local\\programs\\python\\python312\\lib\\site-packages (from torch->easyocr) (3.16.1)\n",
      "Requirement already satisfied: typing-extensions>=4.8.0 in c:\\users\\lenovo\\appdata\\local\\programs\\python\\python312\\lib\\site-packages (from torch->easyocr) (4.12.2)\n",
      "Requirement already satisfied: networkx in c:\\users\\lenovo\\appdata\\roaming\\python\\python312\\site-packages (from torch->easyocr) (3.4.2)\n",
      "Requirement already satisfied: jinja2 in c:\\users\\lenovo\\appdata\\local\\programs\\python\\python312\\lib\\site-packages (from torch->easyocr) (3.1.4)\n",
      "Requirement already satisfied: fsspec in c:\\users\\lenovo\\appdata\\local\\programs\\python\\python312\\lib\\site-packages (from torch->easyocr) (2024.10.0)\n",
      "Requirement already satisfied: setuptools in c:\\users\\lenovo\\appdata\\local\\programs\\python\\python312\\lib\\site-packages (from torch->easyocr) (75.2.0)\n",
      "Requirement already satisfied: sympy==1.13.1 in c:\\users\\lenovo\\appdata\\local\\programs\\python\\python312\\lib\\site-packages (from torch->easyocr) (1.13.1)\n",
      "Requirement already satisfied: mpmath<1.4,>=1.1.0 in c:\\users\\lenovo\\appdata\\local\\programs\\python\\python312\\lib\\site-packages (from sympy==1.13.1->torch->easyocr) (1.3.0)\n",
      "Requirement already satisfied: imageio>=2.33 in c:\\users\\lenovo\\appdata\\local\\programs\\python\\python312\\lib\\site-packages (from scikit-image->easyocr) (2.36.0)\n",
      "Requirement already satisfied: tifffile>=2022.8.12 in c:\\users\\lenovo\\appdata\\local\\programs\\python\\python312\\lib\\site-packages (from scikit-image->easyocr) (2024.9.20)\n",
      "Requirement already satisfied: packaging>=21 in c:\\users\\lenovo\\appdata\\local\\programs\\python\\python312\\lib\\site-packages (from scikit-image->easyocr) (24.1)\n",
      "Requirement already satisfied: lazy-loader>=0.4 in c:\\users\\lenovo\\appdata\\roaming\\python\\python312\\site-packages (from scikit-image->easyocr) (0.4)\n",
      "Requirement already satisfied: MarkupSafe>=2.0 in c:\\users\\lenovo\\appdata\\local\\programs\\python\\python312\\lib\\site-packages (from jinja2->torch->easyocr) (3.0.2)\n",
      "Note: you may need to restart the kernel to use updated packages.\n"
     ]
    },
    {
     "name": "stderr",
     "output_type": "stream",
     "text": [
      "\n",
      "[notice] A new release of pip is available: 23.2.1 -> 24.3.1\n",
      "[notice] To update, run: python.exe -m pip install --upgrade pip\n"
     ]
    },
    {
     "name": "stdout",
     "output_type": "stream",
     "text": [
      "Requirement already satisfied: pandas in c:\\users\\lenovo\\appdata\\local\\programs\\python\\python312\\lib\\site-packages (2.2.3)\n",
      "Requirement already satisfied: numpy>=1.26.0 in c:\\users\\lenovo\\appdata\\local\\programs\\python\\python312\\lib\\site-packages (from pandas) (1.26.4)\n",
      "Requirement already satisfied: python-dateutil>=2.8.2 in c:\\users\\lenovo\\appdata\\roaming\\python\\python312\\site-packages (from pandas) (2.9.0.post0)\n",
      "Requirement already satisfied: pytz>=2020.1 in c:\\users\\lenovo\\appdata\\local\\programs\\python\\python312\\lib\\site-packages (from pandas) (2024.2)\n",
      "Requirement already satisfied: tzdata>=2022.7 in c:\\users\\lenovo\\appdata\\local\\programs\\python\\python312\\lib\\site-packages (from pandas) (2024.2)\n",
      "Requirement already satisfied: six>=1.5 in c:\\users\\lenovo\\appdata\\local\\programs\\python\\python312\\lib\\site-packages (from python-dateutil>=2.8.2->pandas) (1.16.0)\n",
      "Note: you may need to restart the kernel to use updated packages.\n"
     ]
    },
    {
     "name": "stderr",
     "output_type": "stream",
     "text": [
      "\n",
      "[notice] A new release of pip is available: 23.2.1 -> 24.3.1\n",
      "[notice] To update, run: python.exe -m pip install --upgrade pip\n"
     ]
    }
   ],
   "source": [
    "%pip install easyocr\n",
    "%pip install pandas"
   ]
  },
  {
   "cell_type": "code",
   "execution_count": 2,
   "metadata": {},
   "outputs": [],
   "source": [
    "import easyocr\n",
    "import pandas as pd"
   ]
  },
  {
   "cell_type": "code",
   "execution_count": 3,
   "metadata": {},
   "outputs": [
    {
     "name": "stderr",
     "output_type": "stream",
     "text": [
      "Using CPU. Note: This module is much faster with a GPU.\n"
     ]
    }
   ],
   "source": [
    "reader = easyocr.Reader(['en'],gpu=False)"
   ]
  },
  {
   "cell_type": "code",
   "execution_count": null,
   "metadata": {},
   "outputs": [
    {
     "data": {
      "text/plain": [
       "[([[6, 14], [54, 14], [54, 38], [6, 38]], 'Date', 0.49541206061064774),\n",
       " ([[102, 14], [290, 14], [290, 38], [102, 38]],\n",
       "  'Transaction Details',\n",
       "  0.9995570424863658),\n",
       " ([[722, 12], [904, 12], [904, 42], [722, 42]],\n",
       "  'Merchant Category',\n",
       "  0.9117228058608429),\n",
       " ([[972, 14], [1100, 14], [1100, 40], [972, 40]],\n",
       "  'Amount (Rs:)',\n",
       "  0.8936883300211733),\n",
       " ([[4, 60], [298, 60], [298, 84], [4, 84]],\n",
       "  '19/09/2024 UPI_THE CHAITINI IND',\n",
       "  0.9086168113881392),\n",
       " ([[306, 60], [604, 60], [604, 84], [306, 84]],\n",
       "  'Ref No: RT242640386000030000768',\n",
       "  0.9195277990167977),\n",
       " ([[722, 60], [894, 60], [894, 84], [722, 84]],\n",
       "  'Miscellaneous Stores',\n",
       "  0.7817751355448012),\n",
       " ([[1026, 60], [1100, 60], [1100, 84], [1026, 84]],\n",
       "  '45.00 Dr',\n",
       "  0.9954508423992375),\n",
       " ([[7, 109], [311, 109], [311, 129], [7, 129]],\n",
       "  '19/09/2024  UPI RAJESH BAGRI IND',\n",
       "  0.5177219507942149),\n",
       " ([[321, 109], [617, 109], [617, 129], [321, 129]],\n",
       "  'Ref No: RT242640386000040000924',\n",
       "  0.7711372219854447),\n",
       " ([[723, 109], [893, 109], [893, 129], [723, 129]],\n",
       "  'Miscellaneous Stores',\n",
       "  0.8762736272445654),\n",
       " ([[1027, 109], [1099, 109], [1099, 129], [1027, 129]],\n",
       "  '40.00 Dr',\n",
       "  0.9998040103246766),\n",
       " ([[5, 155], [299, 155], [299, 175], [5, 175]],\n",
       "  '20/09/2024 UPI THE CHAITINI IND',\n",
       "  0.7712517520827883),\n",
       " ([[307, 155], [603, 155], [603, 175], [307, 175]],\n",
       "  'Ref No: RT242640386000030000569',\n",
       "  0.8384746161194409),\n",
       " ([[722, 154], [893, 154], [893, 175], [722, 175]],\n",
       "  'Miscellaneous Stores',\n",
       "  0.7460032677444076),\n",
       " ([[1027, 155], [1099, 155], [1099, 175], [1027, 175]],\n",
       "  '20.00 Dr',\n",
       "  0.740999820600835),\n",
       " ([[5, 201], [407, 201], [407, 221], [5, 221]],\n",
       "  '21/09/2024 UPI LOKESHA SO D ANAND PP IND',\n",
       "  0.5248525481460063),\n",
       " ([[417, 201], [713, 201], [713, 221], [417, 221]],\n",
       "  'Ref No: RT242650385000040000102',\n",
       "  0.7975861994165305),\n",
       " ([[723, 201], [895, 201], [895, 221], [723, 221]],\n",
       "  'Retail Outlet Services',\n",
       "  0.9719123498110334),\n",
       " ([[1027, 201], [1101, 201], [1101, 221], [1027, 221]],\n",
       "  '40.00 Dr',\n",
       "  0.9996767180139495)]"
      ]
     },
     "execution_count": 5,
     "metadata": {},
     "output_type": "execute_result"
    }
   ],
   "source": [
    "results = reader.readtext(\"C:/Users/Lenovo/OneDrive/Pictures/Screenshots/Screenshot 2024-12-09 191843.png\")\n",
    "#results = reader.readtext(\"D:/DocuVille/backend/preprocessed_image.jpg\")\n",
    "results"
   ]
  },
  {
   "cell_type": "code",
   "execution_count": null,
   "metadata": {},
   "outputs": [
    {
     "data": {
      "text/plain": [
       "0                                         Date\n",
       "1                          Transaction Details\n",
       "2                            Merchant Category\n",
       "3                                 Amount (Rs:)\n",
       "4              19/09/2024 UPI_THE CHAITINI IND\n",
       "5              Ref No: RT242640386000030000768\n",
       "6                         Miscellaneous Stores\n",
       "7                                     45.00 Dr\n",
       "8             19/09/2024  UPI RAJESH BAGRI IND\n",
       "9              Ref No: RT242640386000040000924\n",
       "10                        Miscellaneous Stores\n",
       "11                                    40.00 Dr\n",
       "12             20/09/2024 UPI THE CHAITINI IND\n",
       "13             Ref No: RT242640386000030000569\n",
       "14                        Miscellaneous Stores\n",
       "15                                    20.00 Dr\n",
       "16    21/09/2024 UPI LOKESHA SO D ANAND PP IND\n",
       "17             Ref No: RT242650385000040000102\n",
       "18                      Retail Outlet Services\n",
       "19                                    40.00 Dr\n",
       "Name: text, dtype: object"
      ]
     },
     "execution_count": 6,
     "metadata": {},
     "output_type": "execute_result"
    }
   ],
   "source": [
    "pd.DataFrame(results,columns=['bbox','text','conf'])['text']\n"
   ]
  }
 ],
 "metadata": {
  "kernelspec": {
   "display_name": "Python 3",
   "language": "python",
   "name": "python3"
  },
  "language_info": {
   "codemirror_mode": {
    "name": "ipython",
    "version": 3
   },
   "file_extension": ".py",
   "mimetype": "text/x-python",
   "name": "python",
   "nbconvert_exporter": "python",
   "pygments_lexer": "ipython3",
   "version": "3.12.0"
  }
 },
 "nbformat": 4,
 "nbformat_minor": 2
}
